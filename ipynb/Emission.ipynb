{
 "cells": [
  {
   "cell_type": "markdown",
   "id": "faee134d",
   "metadata": {},
   "source": [
    "# Monthly CO2 Emission Dataset for Each Coal and Natural Gas Burning Power Plant in the US from 2013-2020\n",
    "\n",
    "Jason & Steve"
   ]
  },
  {
   "cell_type": "code",
   "execution_count": 128,
   "id": "66752baa",
   "metadata": {},
   "outputs": [],
   "source": [
    "import os\n",
    "import pandas as pd\n",
    "import numpy as np\n",
    "import matplotlib.pyplot as plt\n",
    "import matplotlib.dates as mdates\n",
    "import seaborn as sns\n",
    "import plotly.express as px"
   ]
  },
  {
   "cell_type": "code",
   "execution_count": 130,
   "id": "c2d3bbff",
   "metadata": {},
   "outputs": [],
   "source": [
    "path = os.getcwd()\n",
    "parent = os.path.dirname(path)"
   ]
  },
  {
   "cell_type": "markdown",
   "id": "72034e8b",
   "metadata": {},
   "source": [
    "## Abstract\n",
    "\n",
    "To better control the emission of greenhouse gases, it is crucial that we can obtain detailed emission level estimates. CO2 emissions from fossil fuel burning power plants contribute significantly to the total anthropogenic greenhouse gas emissions yet the official emission estimates for them are mostly provided annually. This dataset will downscale annual CO2 emission estimates by using state-level electricity generation data to provide monthly CO2 emission data for all power plants in the United States. Our dataset will be useful for seasonal scale emission research, policy analysis, and demonstrate the potential of further downscaling power plant emissions using electricity generation data."
   ]
  },
  {
   "cell_type": "markdown",
   "id": "789c01a2",
   "metadata": {},
   "source": [
    "## Background and Summary\n",
    "\n",
    "Global warming is one of the most critical challenges that threaten the sustainable development of all of mankind. The cause of the global warming crisis is the greenhouse gas effect, yet the greenhouse effect itself is just a natural phenomenon, it is the excess greenhouse gas emissions from anthropogenic activities that made it problematic. Among all anthropogenic emissions, we identified CO2 emission from fossil fuel combusting power plants as one of the key contributors to the overall global warming effect in the United States. In 2020, 79% of the total greenhouse gas emissions were CO2 and 31% of that come from the electric power industry, making power plants the second largest emitter of CO2 in this country(EPA, 2022).\n",
    " \n",
    "To mitigate the impact of the global warming effect, numerous countries have proposed policies and agreements, such as the famous Paris Agreement, with ambitious targets to constrain or decrease the anthropogenic emission of greenhouse gases. In order to work towards these goals, it is essential that we can actually monitor the emission of greenhouse gases. However, this ever-increasing demand for greenhouse gas emissions monitoring is not so easy to be satisfied as the actual process to obtain emission levels is not as straightforward as it seems. Unlike more tangible pollutants such as solid waste, gaseous pollutants cannot be measured directly, instead, their emissions must be estimated using mathematical models. Emission modeling can be done in various ways, but the general approach is to relate more easily measurable variables with emission levels using mathematical equations so that emission levels can be inferred and not measured directly. The kinds of input variables used will depend on the emission source, different sources of emissions will be influenced by different factors and will hence be modeled independently(Inventory of U.S. Greenhouse Gas Emissions and Sinks: 1990-2014, 2016). In the case of fossil fuel burning power plants, emissions can be modeled fairly accurately with input-output production statistics. Relevant input variables include the type of fuel used, amount of energy generated, type of generator used, etc(Maksyutov et al., 2022). Different types of fuel have different compositions and will hence produce different amounts of emissions and will have different power generating capacities, combining detailed fuel data with the amount of power generated and other relevant data in the right way will give researchers an accurate estimate of the total amount of emission.\n",
    " \n",
    "The problem for many official emission reports is the low temporal resolution. For example, in the case of the United States, only very large-scale power plants have data on monthly emission estimates, the emissions for all other power plants are given in annual totals. This level of temporal resolution does not provide much information and is not enough for more detailed research. Power plants as a major point source emitter, obtaining emission estimates with high temporal resolution is essential to understand their impact on the local environment and to better analyze emission-reducing practices. For example, if we were to compare greenhouse gas emissions in Atlanta during the summer and winter, knowing only the annual emission totals won’t be such help. The major difficulty of creating an emission data set with high temporal resolution is the long periods of time needed to collect and process the numerous amounts of data from all across the country. However, this painstaking task is based on a developed national census system and will be extremely difficult to further simply or accelerate. Since it is impossible to decrease the time period needed to directly produce emission estimates, we attempted to use proxy data that are correlated with greenhouse gas emissions and available in finer temporal resolutions to downscale annual emissions to finer temporal resolutions. Similar downscaling strategies are commonly used by scientists to achieve both finer spatial and temporal resolution. For example, nighttime light (NTL) data is capable of spatially downscaling urban carbon emissions based on assumptions that NTL data can potentially reflect socioeconomic conditions and human activities which are linked to carbon emissions (Cai et al., 2021). Using downscaling strategies, our goal is to create a dataset of CO2 emissions from power plants at monthly intervals to facilitate research that requires data on more detailed emission trends.\n",
    "\n"
   ]
  },
  {
   "cell_type": "markdown",
   "id": "2f82046b",
   "metadata": {},
   "source": [
    "## Methods\n",
    "\n",
    "This section will first describe the data we used and then explain our methodology in creating the dataset. The three major categories of data we used are power plant information data, emission estimates, and electricity generation data. All of our data are provided by the U.S Energy Information Administration (EIA). The EIA collects information on power plants on regular bases and calculates the estimated emission levels for each plant. Specifically, we used raw data obtained from Form EIA-860 and Form EIA-923, and processed datasets including the emission dataset for each power plant and the total electric power dataset.\n",
    " \n",
    "For power plant information, we used Form EIA-860 and Form EIA-923. Form-860, the annual electric generator report, collects generator-level data for existing and planned generators and associated environmental equipment in power plants with 1 megawatt or greater capacity or any generator which have the ability to deliver or retrieve power from the grid. This 1-megawatt cutoff is consistent with all other power related data collected in the United States, generators of scale smaller than 1-megawatt annual capacity or the ones that are for personal use, such as solar panels above one’s rooftops, are considered much more trivial sources and are not included. This scale fits desired scale of our analysis as it covers the major emitters and will take much more work to include all emissions from every single generator in the country. This form is provided detailed information about the location of all generators, the type of fuel, the amount of electricity generated, etc. Data is available on an annual interval and dates back to 1990. This form provides exhaustive and uniform coverage of all power plants in the country but lacks detailed information. To address this issue, we used data from Form EIA-923 as a supplement for the EIA-860 form. This form is called Power Plant Operations Form and it provides us with more detailed information, including the type of environmental protection systems installed, monthly generation data for large power plants and etc. Unlike Form EIA-860 where data is collected uniformly for all respondents, Form EIA-923 assigns different sections depending on the generating capacity for each plant. This means that the dataset’s scale and scope are not uniform throughout all variables, and some detailed information is only available for certain power plants. For this dataset, we selected the power plants that offer complete monthly generation data.\n",
    " \n",
    "For emission estimates and power generation data, we used pre-assembled datasets by the EIA. As explained previously, emission estimates were obtained using mathematical models that relate input variables with the output emissions, the EIA calculated the emissions based on the information collected by Form EIA-860 and Form EIA-923. The emission estimates were given in annual totals per power plant and the data are available since 2013. The electric power dataset is also created by the EIA based on national grid data. This dataset is released each month and contains information about the electricity generated nationwide during that month. We specifically used Table 1.3A of the dataset, this table gives the monthly total of electricity generated by utility scale generators of each state.\n",
    " \n",
    "Our general approach to constructing the monthly powerplant emission is to relate annual emission totals with other relevant information for each power plant and then downscale the annual totals to monthly data based on the monthly power generated in each state. Since we have information on all power plants in the country, our first step is to identify the types of power plants that are actually capable of emitting carbon dioxide. We identified power plants that use coal and natural gas as the two topmost emitters, each contributing 66% and 32% of the total carbon dioxide emission from 2013 to 2020. (graph) Based on this information, we then narrowed our dataset to select all the power plants that use either coal or natural gas as their fuel source. Each plant was assigned a unique plant code which was uniform across all datasets and we used this code to merge the emission data with other plant-specific data provided in the two forms. After constructing the annual emission dataset, the next step is to downscale emissions. We believe that the level of emissions is related to the amount of electricity output so we use the electricity generation data as the proxy data for the downscaling process. We assumed that the emission fluctuations are synchronous with electricity generation fluctuations and monthly emission as a proportion of total annual emission is the same as the monthly generation to annual generation. The monthly fluctuations are calculated in two ways depending on the data available for each power plant. For powerplants with specific data, we used individual monthly fluctuations. For power plants that do not have plant-specific monthly generation data, we assumed that the monthly fluctuations at the state level are representative of the monthly emission fluctuations for all these individual power plants within the state that does not have detailed information. Specifically, we assumed that the power plants without detailed information generate electricity on the same proportional bases according to the fluctuations of the total generation of their state. For example, we will assume that power plants will decrease output by 10% if the state’s total output for that month decrease by 10%. Based on this assumption, we can approximate the monthly output of each power plant and hence, the monthly emission for each individual power plant even when specific data is not available.  \n"
   ]
  },
  {
   "cell_type": "code",
   "execution_count": 139,
   "id": "60f31850",
   "metadata": {},
   "outputs": [],
   "source": [
    "# declaring data\n",
    "\n",
    "os.chdir(parent + '/dataset/yearly_emissions/')\n",
    "\n",
    "years = list(range(2013, 2021))\n",
    "\n",
    "frames = []\n",
    "\n",
    "for y in years: \n",
    "    filename = 'emissions' + str(y) + '.xlsx'\n",
    "    \n",
    "    data_df = pd.read_excel(filename, header=1)\n",
    "    \n",
    "    data_df.insert(0, \"Year\", y)\n",
    "\n",
    "    frames.append(data_df)\n",
    "    \n",
    "emission_df = pd.concat(frames, ignore_index=True).dropna(subset=['Plant Name'])\n"
   ]
  },
  {
   "cell_type": "code",
   "execution_count": 141,
   "id": "1f181555",
   "metadata": {},
   "outputs": [],
   "source": [
    "years = list(range(2013, 2021))\n",
    "\n",
    "frames = []\n",
    "\n",
    "for y in years: \n",
    "    filename = 'emissions' + str(y) + '.xlsx'\n",
    "    \n",
    "    data_df = pd.read_excel(filename, header=1)\n",
    "    \n",
    "    data_df.insert(0, \"Year\", y)\n",
    "\n",
    "    frames.append(data_df)\n",
    "    \n",
    "emission_df = pd.concat(frames, ignore_index=True).dropna(subset=['Plant Name'])"
   ]
  },
  {
   "cell_type": "markdown",
   "id": "a3236c3e",
   "metadata": {},
   "source": [
    "## Technical validation\n",
    "One of the key foundations of our dataset is the assumption that emission can be represented by power-generated data. To verify this assumption, we calculated the correlation between annual emissions and the total power generated in each state for coal and natural gas power plants separately. The data we used are directly from the reported annual emissions and grid data by the EIA. The results are shown below:\n",
    " \n",
    "For both coal and natural gas, the R-squared value is greater than 0.95 indicating a near-linear relationship between annual emissions and electricity generated by the two types of power plants. This means that our strategy to use electricity generation as proxy data is valid.\n"
   ]
  },
  {
   "cell_type": "markdown",
   "id": "14c9de45",
   "metadata": {},
   "source": [
    "## Usage Notes\n",
    "This dataset has potential uses for conducting monthly scale emission analysis and construction of finer scale/larger coverage emission models.\n",
    " \n",
    "When carrying out emission analysis, it is important that the scale of the data is consistent. Our data set can facilitate monthly level emission analysis by providing comprehensive emission estimates for all power plants in the country since 2013. With this data, we can better understand the temporal and spatial variations of power plant emissions, assess the impact of emission control policies, etc. It can also be used to cross-validate with other emission modeling techniques, such as top-down observation based modeling, to identify disparities and hence correct modeling biases.\n",
    " \n",
    "Our dataset can also be incorporated into more comprehensive emission datasets. Power plant's emission data can be combined with other emission estimates into a comprehensive dataset that covers greenhouse gas emissions from various sources. We have also proven that our strategy of downscaling emissions using electricity generation as proxy data is feasible, making it possible for future research to further downscale CO2 emissions to finer scales with more detailed proxy data.\n",
    " \n",
    "For ethical considerations, we have not identified any ethical issues worth considering in our dataset. Most of the information we used is legally required self-reported objective information and all of them are obtained from public sources. This dataset will only reveal information relevant to controlling global warming which is a crisis that threatens the whole of mankind equally.\n"
   ]
  },
  {
   "cell_type": "code",
   "execution_count": 92,
   "id": "f1157b92",
   "metadata": {},
   "outputs": [],
   "source": [
    "df = pd.read_csv('monthly_generation_emission.csv')"
   ]
  },
  {
   "cell_type": "code",
   "execution_count": 93,
   "id": "3bf65260",
   "metadata": {},
   "outputs": [
    {
     "data": {
      "application/vnd.plotly.v1+json": {
       "config": {
        "plotlyServerURL": "https://plot.ly"
       },
       "data": [
        {
         "coloraxis": "coloraxis",
         "geo": "geo",
         "hovertemplate": "State=%{location}<br>Emission (Predicted)=%{z}<extra></extra>",
         "locationmode": "USA-states",
         "locations": [
          "AK",
          "AL",
          "AR",
          "AZ",
          "CA",
          "CO",
          "CT",
          "DC",
          "DE",
          "FL",
          "GA",
          "HI",
          "IA",
          "ID",
          "IL",
          "IN",
          "KS",
          "KY",
          "LA",
          "MA",
          "MD",
          "ME",
          "MI",
          "MN",
          "MO",
          "MS",
          "MT",
          "NC",
          "ND",
          "NE",
          "NH",
          "NJ",
          "NM",
          "NV",
          "NY",
          "OH",
          "OK",
          "OR",
          "PA",
          "RI",
          "SC",
          "SD",
          "TN",
          "TX",
          "UT",
          "VA",
          "VT",
          "WA",
          "WI",
          "WV",
          "WY"
         ],
         "name": "",
         "type": "choropleth",
         "z": [
          18533341.63728296,
          118202902.26523124,
          63195545.65975406,
          85988674.53394265,
          210836166.90083653,
          84839476.84105982,
          25788764.911182668,
          491700.61487522733,
          10378203.72540855,
          184800387.8118429,
          118857868.62176637,
          5454014.244371921,
          111057643.90897904,
          9701023.760833891,
          186117810.84941298,
          171765032.41630077,
          82222824.73091733,
          136863211.6444516,
          85435826.33875309,
          39902121.07210439,
          44891531.90532885,
          12168094.286017152,
          170092507.88139555,
          94246179.62431751,
          147538077.44464692,
          46322900.45192564,
          32169416.068344533,
          113064721.05012865,
          48512179.36298128,
          67030839.67783763,
          10083220.911058193,
          48392158.34013442,
          46180740.16576073,
          31594875.963360578,
          87465635.74301268,
          187299679.72976395,
          73748967.82900912,
          19655416.430622272,
          214602062.21288422,
          6380370.407921205,
          73023347.38158605,
          9402008.418107847,
          67969366.98963249,
          372075066.33778614,
          63463958.86443101,
          90908308.11393443,
          464311.8902505749,
          25846082.186120506,
          122719709.84534904,
          110555678.54606773,
          84834260.60002157
         ]
        }
       ],
       "layout": {
        "coloraxis": {
         "colorbar": {
          "title": {
           "text": "Emission (Predicted)"
          }
         },
         "colorscale": [
          [
           0,
           "#fde725"
          ],
          [
           0.1111111111111111,
           "#b5de2b"
          ],
          [
           0.2222222222222222,
           "#6ece58"
          ],
          [
           0.3333333333333333,
           "#35b779"
          ],
          [
           0.4444444444444444,
           "#1f9e89"
          ],
          [
           0.5555555555555556,
           "#26828e"
          ],
          [
           0.6666666666666666,
           "#31688e"
          ],
          [
           0.7777777777777778,
           "#3e4989"
          ],
          [
           0.8888888888888888,
           "#482878"
          ],
          [
           1,
           "#440154"
          ]
         ]
        },
        "geo": {
         "center": {},
         "domain": {
          "x": [
           0,
           1
          ],
          "y": [
           0,
           1
          ]
         },
         "scope": "usa"
        },
        "legend": {
         "tracegroupgap": 0
        },
        "margin": {
         "t": 60
        },
        "template": {
         "data": {
          "bar": [
           {
            "error_x": {
             "color": "#2a3f5f"
            },
            "error_y": {
             "color": "#2a3f5f"
            },
            "marker": {
             "line": {
              "color": "#E5ECF6",
              "width": 0.5
             },
             "pattern": {
              "fillmode": "overlay",
              "size": 10,
              "solidity": 0.2
             }
            },
            "type": "bar"
           }
          ],
          "barpolar": [
           {
            "marker": {
             "line": {
              "color": "#E5ECF6",
              "width": 0.5
             },
             "pattern": {
              "fillmode": "overlay",
              "size": 10,
              "solidity": 0.2
             }
            },
            "type": "barpolar"
           }
          ],
          "carpet": [
           {
            "aaxis": {
             "endlinecolor": "#2a3f5f",
             "gridcolor": "white",
             "linecolor": "white",
             "minorgridcolor": "white",
             "startlinecolor": "#2a3f5f"
            },
            "baxis": {
             "endlinecolor": "#2a3f5f",
             "gridcolor": "white",
             "linecolor": "white",
             "minorgridcolor": "white",
             "startlinecolor": "#2a3f5f"
            },
            "type": "carpet"
           }
          ],
          "choropleth": [
           {
            "colorbar": {
             "outlinewidth": 0,
             "ticks": ""
            },
            "type": "choropleth"
           }
          ],
          "contour": [
           {
            "colorbar": {
             "outlinewidth": 0,
             "ticks": ""
            },
            "colorscale": [
             [
              0,
              "#0d0887"
             ],
             [
              0.1111111111111111,
              "#46039f"
             ],
             [
              0.2222222222222222,
              "#7201a8"
             ],
             [
              0.3333333333333333,
              "#9c179e"
             ],
             [
              0.4444444444444444,
              "#bd3786"
             ],
             [
              0.5555555555555556,
              "#d8576b"
             ],
             [
              0.6666666666666666,
              "#ed7953"
             ],
             [
              0.7777777777777778,
              "#fb9f3a"
             ],
             [
              0.8888888888888888,
              "#fdca26"
             ],
             [
              1,
              "#f0f921"
             ]
            ],
            "type": "contour"
           }
          ],
          "contourcarpet": [
           {
            "colorbar": {
             "outlinewidth": 0,
             "ticks": ""
            },
            "type": "contourcarpet"
           }
          ],
          "heatmap": [
           {
            "colorbar": {
             "outlinewidth": 0,
             "ticks": ""
            },
            "colorscale": [
             [
              0,
              "#0d0887"
             ],
             [
              0.1111111111111111,
              "#46039f"
             ],
             [
              0.2222222222222222,
              "#7201a8"
             ],
             [
              0.3333333333333333,
              "#9c179e"
             ],
             [
              0.4444444444444444,
              "#bd3786"
             ],
             [
              0.5555555555555556,
              "#d8576b"
             ],
             [
              0.6666666666666666,
              "#ed7953"
             ],
             [
              0.7777777777777778,
              "#fb9f3a"
             ],
             [
              0.8888888888888888,
              "#fdca26"
             ],
             [
              1,
              "#f0f921"
             ]
            ],
            "type": "heatmap"
           }
          ],
          "heatmapgl": [
           {
            "colorbar": {
             "outlinewidth": 0,
             "ticks": ""
            },
            "colorscale": [
             [
              0,
              "#0d0887"
             ],
             [
              0.1111111111111111,
              "#46039f"
             ],
             [
              0.2222222222222222,
              "#7201a8"
             ],
             [
              0.3333333333333333,
              "#9c179e"
             ],
             [
              0.4444444444444444,
              "#bd3786"
             ],
             [
              0.5555555555555556,
              "#d8576b"
             ],
             [
              0.6666666666666666,
              "#ed7953"
             ],
             [
              0.7777777777777778,
              "#fb9f3a"
             ],
             [
              0.8888888888888888,
              "#fdca26"
             ],
             [
              1,
              "#f0f921"
             ]
            ],
            "type": "heatmapgl"
           }
          ],
          "histogram": [
           {
            "marker": {
             "pattern": {
              "fillmode": "overlay",
              "size": 10,
              "solidity": 0.2
             }
            },
            "type": "histogram"
           }
          ],
          "histogram2d": [
           {
            "colorbar": {
             "outlinewidth": 0,
             "ticks": ""
            },
            "colorscale": [
             [
              0,
              "#0d0887"
             ],
             [
              0.1111111111111111,
              "#46039f"
             ],
             [
              0.2222222222222222,
              "#7201a8"
             ],
             [
              0.3333333333333333,
              "#9c179e"
             ],
             [
              0.4444444444444444,
              "#bd3786"
             ],
             [
              0.5555555555555556,
              "#d8576b"
             ],
             [
              0.6666666666666666,
              "#ed7953"
             ],
             [
              0.7777777777777778,
              "#fb9f3a"
             ],
             [
              0.8888888888888888,
              "#fdca26"
             ],
             [
              1,
              "#f0f921"
             ]
            ],
            "type": "histogram2d"
           }
          ],
          "histogram2dcontour": [
           {
            "colorbar": {
             "outlinewidth": 0,
             "ticks": ""
            },
            "colorscale": [
             [
              0,
              "#0d0887"
             ],
             [
              0.1111111111111111,
              "#46039f"
             ],
             [
              0.2222222222222222,
              "#7201a8"
             ],
             [
              0.3333333333333333,
              "#9c179e"
             ],
             [
              0.4444444444444444,
              "#bd3786"
             ],
             [
              0.5555555555555556,
              "#d8576b"
             ],
             [
              0.6666666666666666,
              "#ed7953"
             ],
             [
              0.7777777777777778,
              "#fb9f3a"
             ],
             [
              0.8888888888888888,
              "#fdca26"
             ],
             [
              1,
              "#f0f921"
             ]
            ],
            "type": "histogram2dcontour"
           }
          ],
          "mesh3d": [
           {
            "colorbar": {
             "outlinewidth": 0,
             "ticks": ""
            },
            "type": "mesh3d"
           }
          ],
          "parcoords": [
           {
            "line": {
             "colorbar": {
              "outlinewidth": 0,
              "ticks": ""
             }
            },
            "type": "parcoords"
           }
          ],
          "pie": [
           {
            "automargin": true,
            "type": "pie"
           }
          ],
          "scatter": [
           {
            "fillpattern": {
             "fillmode": "overlay",
             "size": 10,
             "solidity": 0.2
            },
            "type": "scatter"
           }
          ],
          "scatter3d": [
           {
            "line": {
             "colorbar": {
              "outlinewidth": 0,
              "ticks": ""
             }
            },
            "marker": {
             "colorbar": {
              "outlinewidth": 0,
              "ticks": ""
             }
            },
            "type": "scatter3d"
           }
          ],
          "scattercarpet": [
           {
            "marker": {
             "colorbar": {
              "outlinewidth": 0,
              "ticks": ""
             }
            },
            "type": "scattercarpet"
           }
          ],
          "scattergeo": [
           {
            "marker": {
             "colorbar": {
              "outlinewidth": 0,
              "ticks": ""
             }
            },
            "type": "scattergeo"
           }
          ],
          "scattergl": [
           {
            "marker": {
             "colorbar": {
              "outlinewidth": 0,
              "ticks": ""
             }
            },
            "type": "scattergl"
           }
          ],
          "scattermapbox": [
           {
            "marker": {
             "colorbar": {
              "outlinewidth": 0,
              "ticks": ""
             }
            },
            "type": "scattermapbox"
           }
          ],
          "scatterpolar": [
           {
            "marker": {
             "colorbar": {
              "outlinewidth": 0,
              "ticks": ""
             }
            },
            "type": "scatterpolar"
           }
          ],
          "scatterpolargl": [
           {
            "marker": {
             "colorbar": {
              "outlinewidth": 0,
              "ticks": ""
             }
            },
            "type": "scatterpolargl"
           }
          ],
          "scatterternary": [
           {
            "marker": {
             "colorbar": {
              "outlinewidth": 0,
              "ticks": ""
             }
            },
            "type": "scatterternary"
           }
          ],
          "surface": [
           {
            "colorbar": {
             "outlinewidth": 0,
             "ticks": ""
            },
            "colorscale": [
             [
              0,
              "#0d0887"
             ],
             [
              0.1111111111111111,
              "#46039f"
             ],
             [
              0.2222222222222222,
              "#7201a8"
             ],
             [
              0.3333333333333333,
              "#9c179e"
             ],
             [
              0.4444444444444444,
              "#bd3786"
             ],
             [
              0.5555555555555556,
              "#d8576b"
             ],
             [
              0.6666666666666666,
              "#ed7953"
             ],
             [
              0.7777777777777778,
              "#fb9f3a"
             ],
             [
              0.8888888888888888,
              "#fdca26"
             ],
             [
              1,
              "#f0f921"
             ]
            ],
            "type": "surface"
           }
          ],
          "table": [
           {
            "cells": {
             "fill": {
              "color": "#EBF0F8"
             },
             "line": {
              "color": "white"
             }
            },
            "header": {
             "fill": {
              "color": "#C8D4E3"
             },
             "line": {
              "color": "white"
             }
            },
            "type": "table"
           }
          ]
         },
         "layout": {
          "annotationdefaults": {
           "arrowcolor": "#2a3f5f",
           "arrowhead": 0,
           "arrowwidth": 1
          },
          "autotypenumbers": "strict",
          "coloraxis": {
           "colorbar": {
            "outlinewidth": 0,
            "ticks": ""
           }
          },
          "colorscale": {
           "diverging": [
            [
             0,
             "#8e0152"
            ],
            [
             0.1,
             "#c51b7d"
            ],
            [
             0.2,
             "#de77ae"
            ],
            [
             0.3,
             "#f1b6da"
            ],
            [
             0.4,
             "#fde0ef"
            ],
            [
             0.5,
             "#f7f7f7"
            ],
            [
             0.6,
             "#e6f5d0"
            ],
            [
             0.7,
             "#b8e186"
            ],
            [
             0.8,
             "#7fbc41"
            ],
            [
             0.9,
             "#4d9221"
            ],
            [
             1,
             "#276419"
            ]
           ],
           "sequential": [
            [
             0,
             "#0d0887"
            ],
            [
             0.1111111111111111,
             "#46039f"
            ],
            [
             0.2222222222222222,
             "#7201a8"
            ],
            [
             0.3333333333333333,
             "#9c179e"
            ],
            [
             0.4444444444444444,
             "#bd3786"
            ],
            [
             0.5555555555555556,
             "#d8576b"
            ],
            [
             0.6666666666666666,
             "#ed7953"
            ],
            [
             0.7777777777777778,
             "#fb9f3a"
            ],
            [
             0.8888888888888888,
             "#fdca26"
            ],
            [
             1,
             "#f0f921"
            ]
           ],
           "sequentialminus": [
            [
             0,
             "#0d0887"
            ],
            [
             0.1111111111111111,
             "#46039f"
            ],
            [
             0.2222222222222222,
             "#7201a8"
            ],
            [
             0.3333333333333333,
             "#9c179e"
            ],
            [
             0.4444444444444444,
             "#bd3786"
            ],
            [
             0.5555555555555556,
             "#d8576b"
            ],
            [
             0.6666666666666666,
             "#ed7953"
            ],
            [
             0.7777777777777778,
             "#fb9f3a"
            ],
            [
             0.8888888888888888,
             "#fdca26"
            ],
            [
             1,
             "#f0f921"
            ]
           ]
          },
          "colorway": [
           "#636efa",
           "#EF553B",
           "#00cc96",
           "#ab63fa",
           "#FFA15A",
           "#19d3f3",
           "#FF6692",
           "#B6E880",
           "#FF97FF",
           "#FECB52"
          ],
          "font": {
           "color": "#2a3f5f"
          },
          "geo": {
           "bgcolor": "white",
           "lakecolor": "white",
           "landcolor": "#E5ECF6",
           "showlakes": true,
           "showland": true,
           "subunitcolor": "white"
          },
          "hoverlabel": {
           "align": "left"
          },
          "hovermode": "closest",
          "mapbox": {
           "style": "light"
          },
          "paper_bgcolor": "white",
          "plot_bgcolor": "#E5ECF6",
          "polar": {
           "angularaxis": {
            "gridcolor": "white",
            "linecolor": "white",
            "ticks": ""
           },
           "bgcolor": "#E5ECF6",
           "radialaxis": {
            "gridcolor": "white",
            "linecolor": "white",
            "ticks": ""
           }
          },
          "scene": {
           "xaxis": {
            "backgroundcolor": "#E5ECF6",
            "gridcolor": "white",
            "gridwidth": 2,
            "linecolor": "white",
            "showbackground": true,
            "ticks": "",
            "zerolinecolor": "white"
           },
           "yaxis": {
            "backgroundcolor": "#E5ECF6",
            "gridcolor": "white",
            "gridwidth": 2,
            "linecolor": "white",
            "showbackground": true,
            "ticks": "",
            "zerolinecolor": "white"
           },
           "zaxis": {
            "backgroundcolor": "#E5ECF6",
            "gridcolor": "white",
            "gridwidth": 2,
            "linecolor": "white",
            "showbackground": true,
            "ticks": "",
            "zerolinecolor": "white"
           }
          },
          "shapedefaults": {
           "line": {
            "color": "#2a3f5f"
           }
          },
          "ternary": {
           "aaxis": {
            "gridcolor": "white",
            "linecolor": "white",
            "ticks": ""
           },
           "baxis": {
            "gridcolor": "white",
            "linecolor": "white",
            "ticks": ""
           },
           "bgcolor": "#E5ECF6",
           "caxis": {
            "gridcolor": "white",
            "linecolor": "white",
            "ticks": ""
           }
          },
          "title": {
           "x": 0.05
          },
          "xaxis": {
           "automargin": true,
           "gridcolor": "white",
           "linecolor": "white",
           "ticks": "",
           "title": {
            "standoff": 15
           },
           "zerolinecolor": "white",
           "zerolinewidth": 2
          },
          "yaxis": {
           "automargin": true,
           "gridcolor": "white",
           "linecolor": "white",
           "ticks": "",
           "title": {
            "standoff": 15
           },
           "zerolinecolor": "white",
           "zerolinewidth": 2
          }
         }
        }
       }
      }
     },
     "metadata": {},
     "output_type": "display_data"
    }
   ],
   "source": [
    "# graph 2013 's total emission\n",
    "\n",
    "_2013 = df[df['Year'] == 2013]\n",
    "\n",
    "_2013_by_state = _2013.groupby('State', as_index=False).aggregate({\n",
    "    'Emission (Predicted)': 'sum'})\n",
    "\n",
    "fig = px.choropleth(_2013_by_state,\n",
    "                    locations='State',\n",
    "                    locationmode=\"USA-states\",\n",
    "                    scope=\"usa\",\n",
    "                    color=(_2013_by_state['Emission (Predicted)']),\n",
    "                    color_continuous_scale=\"Viridis_r\",\n",
    "                    )\n",
    "fig.show()\n"
   ]
  },
  {
   "cell_type": "code",
   "execution_count": 94,
   "id": "a2c2a5c1",
   "metadata": {},
   "outputs": [
    {
     "data": {
      "application/vnd.plotly.v1+json": {
       "config": {
        "plotlyServerURL": "https://plot.ly"
       },
       "data": [
        {
         "coloraxis": "coloraxis",
         "geo": "geo",
         "hovertemplate": "State=%{location}<br>Emission (Predicted)=%{z}<extra></extra>",
         "locationmode": "USA-states",
         "locations": [
          "AK",
          "AL",
          "AR",
          "AZ",
          "CA",
          "CO",
          "CT",
          "DC",
          "DE",
          "FL",
          "GA",
          "IA",
          "ID",
          "IL",
          "IN",
          "KS",
          "KY",
          "LA",
          "MA",
          "MD",
          "ME",
          "MI",
          "MN",
          "MO",
          "MS",
          "MT",
          "NC",
          "ND",
          "NE",
          "NH",
          "NJ",
          "NM",
          "NV",
          "NY",
          "OH",
          "OK",
          "OR",
          "PA",
          "RI",
          "SC",
          "SD",
          "TN",
          "TX",
          "UT",
          "VA",
          "VT",
          "WA",
          "WI",
          "WV",
          "WY"
         ],
         "name": "",
         "type": "choropleth",
         "z": [
          8559144.426189287,
          41669939.33897435,
          18630187.768882867,
          37416051.453526296,
          198935318.2326803,
          24126796.543243255,
          33410378.43334148,
          1910182.4611928414,
          7193433.502850104,
          121472316.22830477,
          46632959.43957702,
          28995334.396313418,
          5979278.828314673,
          46338553.33344436,
          34822420.49107619,
          31316115.375596996,
          14605006.737941906,
          61415835.008557156,
          27477510.347938653,
          15403349.113167496,
          6386064.254910106,
          51534276.438650504,
          31078458.385273743,
          20426908.44903114,
          37284420.203393534,
          4756690.176402968,
          31939343.453741264,
          3426854.397167423,
          17194643.577799138,
          4364000.489148838,
          40207588.5527647,
          14955251.318632115,
          19555340.320321597,
          74946268.89434889,
          48974924.96619518,
          35748561.27515283,
          17088886.77554018,
          88763671.68093646,
          7773398.540231336,
          23524943.217572775,
          4647560.204120319,
          14701633.147370629,
          189934739.2150392,
          14773111.757231828,
          44895253.494089,
          926863.6104361089,
          16295638.901202094,
          35056737.19670134,
          5377459.04891443,
          8469738.363331595
         ]
        }
       ],
       "layout": {
        "coloraxis": {
         "colorbar": {
          "title": {
           "text": "Emission (Predicted)"
          }
         },
         "colorscale": [
          [
           0,
           "#fde725"
          ],
          [
           0.1111111111111111,
           "#b5de2b"
          ],
          [
           0.2222222222222222,
           "#6ece58"
          ],
          [
           0.3333333333333333,
           "#35b779"
          ],
          [
           0.4444444444444444,
           "#1f9e89"
          ],
          [
           0.5555555555555556,
           "#26828e"
          ],
          [
           0.6666666666666666,
           "#31688e"
          ],
          [
           0.7777777777777778,
           "#3e4989"
          ],
          [
           0.8888888888888888,
           "#482878"
          ],
          [
           1,
           "#440154"
          ]
         ]
        },
        "geo": {
         "center": {},
         "domain": {
          "x": [
           0,
           1
          ],
          "y": [
           0,
           1
          ]
         },
         "scope": "usa"
        },
        "legend": {
         "tracegroupgap": 0
        },
        "margin": {
         "t": 60
        },
        "template": {
         "data": {
          "bar": [
           {
            "error_x": {
             "color": "#2a3f5f"
            },
            "error_y": {
             "color": "#2a3f5f"
            },
            "marker": {
             "line": {
              "color": "#E5ECF6",
              "width": 0.5
             },
             "pattern": {
              "fillmode": "overlay",
              "size": 10,
              "solidity": 0.2
             }
            },
            "type": "bar"
           }
          ],
          "barpolar": [
           {
            "marker": {
             "line": {
              "color": "#E5ECF6",
              "width": 0.5
             },
             "pattern": {
              "fillmode": "overlay",
              "size": 10,
              "solidity": 0.2
             }
            },
            "type": "barpolar"
           }
          ],
          "carpet": [
           {
            "aaxis": {
             "endlinecolor": "#2a3f5f",
             "gridcolor": "white",
             "linecolor": "white",
             "minorgridcolor": "white",
             "startlinecolor": "#2a3f5f"
            },
            "baxis": {
             "endlinecolor": "#2a3f5f",
             "gridcolor": "white",
             "linecolor": "white",
             "minorgridcolor": "white",
             "startlinecolor": "#2a3f5f"
            },
            "type": "carpet"
           }
          ],
          "choropleth": [
           {
            "colorbar": {
             "outlinewidth": 0,
             "ticks": ""
            },
            "type": "choropleth"
           }
          ],
          "contour": [
           {
            "colorbar": {
             "outlinewidth": 0,
             "ticks": ""
            },
            "colorscale": [
             [
              0,
              "#0d0887"
             ],
             [
              0.1111111111111111,
              "#46039f"
             ],
             [
              0.2222222222222222,
              "#7201a8"
             ],
             [
              0.3333333333333333,
              "#9c179e"
             ],
             [
              0.4444444444444444,
              "#bd3786"
             ],
             [
              0.5555555555555556,
              "#d8576b"
             ],
             [
              0.6666666666666666,
              "#ed7953"
             ],
             [
              0.7777777777777778,
              "#fb9f3a"
             ],
             [
              0.8888888888888888,
              "#fdca26"
             ],
             [
              1,
              "#f0f921"
             ]
            ],
            "type": "contour"
           }
          ],
          "contourcarpet": [
           {
            "colorbar": {
             "outlinewidth": 0,
             "ticks": ""
            },
            "type": "contourcarpet"
           }
          ],
          "heatmap": [
           {
            "colorbar": {
             "outlinewidth": 0,
             "ticks": ""
            },
            "colorscale": [
             [
              0,
              "#0d0887"
             ],
             [
              0.1111111111111111,
              "#46039f"
             ],
             [
              0.2222222222222222,
              "#7201a8"
             ],
             [
              0.3333333333333333,
              "#9c179e"
             ],
             [
              0.4444444444444444,
              "#bd3786"
             ],
             [
              0.5555555555555556,
              "#d8576b"
             ],
             [
              0.6666666666666666,
              "#ed7953"
             ],
             [
              0.7777777777777778,
              "#fb9f3a"
             ],
             [
              0.8888888888888888,
              "#fdca26"
             ],
             [
              1,
              "#f0f921"
             ]
            ],
            "type": "heatmap"
           }
          ],
          "heatmapgl": [
           {
            "colorbar": {
             "outlinewidth": 0,
             "ticks": ""
            },
            "colorscale": [
             [
              0,
              "#0d0887"
             ],
             [
              0.1111111111111111,
              "#46039f"
             ],
             [
              0.2222222222222222,
              "#7201a8"
             ],
             [
              0.3333333333333333,
              "#9c179e"
             ],
             [
              0.4444444444444444,
              "#bd3786"
             ],
             [
              0.5555555555555556,
              "#d8576b"
             ],
             [
              0.6666666666666666,
              "#ed7953"
             ],
             [
              0.7777777777777778,
              "#fb9f3a"
             ],
             [
              0.8888888888888888,
              "#fdca26"
             ],
             [
              1,
              "#f0f921"
             ]
            ],
            "type": "heatmapgl"
           }
          ],
          "histogram": [
           {
            "marker": {
             "pattern": {
              "fillmode": "overlay",
              "size": 10,
              "solidity": 0.2
             }
            },
            "type": "histogram"
           }
          ],
          "histogram2d": [
           {
            "colorbar": {
             "outlinewidth": 0,
             "ticks": ""
            },
            "colorscale": [
             [
              0,
              "#0d0887"
             ],
             [
              0.1111111111111111,
              "#46039f"
             ],
             [
              0.2222222222222222,
              "#7201a8"
             ],
             [
              0.3333333333333333,
              "#9c179e"
             ],
             [
              0.4444444444444444,
              "#bd3786"
             ],
             [
              0.5555555555555556,
              "#d8576b"
             ],
             [
              0.6666666666666666,
              "#ed7953"
             ],
             [
              0.7777777777777778,
              "#fb9f3a"
             ],
             [
              0.8888888888888888,
              "#fdca26"
             ],
             [
              1,
              "#f0f921"
             ]
            ],
            "type": "histogram2d"
           }
          ],
          "histogram2dcontour": [
           {
            "colorbar": {
             "outlinewidth": 0,
             "ticks": ""
            },
            "colorscale": [
             [
              0,
              "#0d0887"
             ],
             [
              0.1111111111111111,
              "#46039f"
             ],
             [
              0.2222222222222222,
              "#7201a8"
             ],
             [
              0.3333333333333333,
              "#9c179e"
             ],
             [
              0.4444444444444444,
              "#bd3786"
             ],
             [
              0.5555555555555556,
              "#d8576b"
             ],
             [
              0.6666666666666666,
              "#ed7953"
             ],
             [
              0.7777777777777778,
              "#fb9f3a"
             ],
             [
              0.8888888888888888,
              "#fdca26"
             ],
             [
              1,
              "#f0f921"
             ]
            ],
            "type": "histogram2dcontour"
           }
          ],
          "mesh3d": [
           {
            "colorbar": {
             "outlinewidth": 0,
             "ticks": ""
            },
            "type": "mesh3d"
           }
          ],
          "parcoords": [
           {
            "line": {
             "colorbar": {
              "outlinewidth": 0,
              "ticks": ""
             }
            },
            "type": "parcoords"
           }
          ],
          "pie": [
           {
            "automargin": true,
            "type": "pie"
           }
          ],
          "scatter": [
           {
            "fillpattern": {
             "fillmode": "overlay",
             "size": 10,
             "solidity": 0.2
            },
            "type": "scatter"
           }
          ],
          "scatter3d": [
           {
            "line": {
             "colorbar": {
              "outlinewidth": 0,
              "ticks": ""
             }
            },
            "marker": {
             "colorbar": {
              "outlinewidth": 0,
              "ticks": ""
             }
            },
            "type": "scatter3d"
           }
          ],
          "scattercarpet": [
           {
            "marker": {
             "colorbar": {
              "outlinewidth": 0,
              "ticks": ""
             }
            },
            "type": "scattercarpet"
           }
          ],
          "scattergeo": [
           {
            "marker": {
             "colorbar": {
              "outlinewidth": 0,
              "ticks": ""
             }
            },
            "type": "scattergeo"
           }
          ],
          "scattergl": [
           {
            "marker": {
             "colorbar": {
              "outlinewidth": 0,
              "ticks": ""
             }
            },
            "type": "scattergl"
           }
          ],
          "scattermapbox": [
           {
            "marker": {
             "colorbar": {
              "outlinewidth": 0,
              "ticks": ""
             }
            },
            "type": "scattermapbox"
           }
          ],
          "scatterpolar": [
           {
            "marker": {
             "colorbar": {
              "outlinewidth": 0,
              "ticks": ""
             }
            },
            "type": "scatterpolar"
           }
          ],
          "scatterpolargl": [
           {
            "marker": {
             "colorbar": {
              "outlinewidth": 0,
              "ticks": ""
             }
            },
            "type": "scatterpolargl"
           }
          ],
          "scatterternary": [
           {
            "marker": {
             "colorbar": {
              "outlinewidth": 0,
              "ticks": ""
             }
            },
            "type": "scatterternary"
           }
          ],
          "surface": [
           {
            "colorbar": {
             "outlinewidth": 0,
             "ticks": ""
            },
            "colorscale": [
             [
              0,
              "#0d0887"
             ],
             [
              0.1111111111111111,
              "#46039f"
             ],
             [
              0.2222222222222222,
              "#7201a8"
             ],
             [
              0.3333333333333333,
              "#9c179e"
             ],
             [
              0.4444444444444444,
              "#bd3786"
             ],
             [
              0.5555555555555556,
              "#d8576b"
             ],
             [
              0.6666666666666666,
              "#ed7953"
             ],
             [
              0.7777777777777778,
              "#fb9f3a"
             ],
             [
              0.8888888888888888,
              "#fdca26"
             ],
             [
              1,
              "#f0f921"
             ]
            ],
            "type": "surface"
           }
          ],
          "table": [
           {
            "cells": {
             "fill": {
              "color": "#EBF0F8"
             },
             "line": {
              "color": "white"
             }
            },
            "header": {
             "fill": {
              "color": "#C8D4E3"
             },
             "line": {
              "color": "white"
             }
            },
            "type": "table"
           }
          ]
         },
         "layout": {
          "annotationdefaults": {
           "arrowcolor": "#2a3f5f",
           "arrowhead": 0,
           "arrowwidth": 1
          },
          "autotypenumbers": "strict",
          "coloraxis": {
           "colorbar": {
            "outlinewidth": 0,
            "ticks": ""
           }
          },
          "colorscale": {
           "diverging": [
            [
             0,
             "#8e0152"
            ],
            [
             0.1,
             "#c51b7d"
            ],
            [
             0.2,
             "#de77ae"
            ],
            [
             0.3,
             "#f1b6da"
            ],
            [
             0.4,
             "#fde0ef"
            ],
            [
             0.5,
             "#f7f7f7"
            ],
            [
             0.6,
             "#e6f5d0"
            ],
            [
             0.7,
             "#b8e186"
            ],
            [
             0.8,
             "#7fbc41"
            ],
            [
             0.9,
             "#4d9221"
            ],
            [
             1,
             "#276419"
            ]
           ],
           "sequential": [
            [
             0,
             "#0d0887"
            ],
            [
             0.1111111111111111,
             "#46039f"
            ],
            [
             0.2222222222222222,
             "#7201a8"
            ],
            [
             0.3333333333333333,
             "#9c179e"
            ],
            [
             0.4444444444444444,
             "#bd3786"
            ],
            [
             0.5555555555555556,
             "#d8576b"
            ],
            [
             0.6666666666666666,
             "#ed7953"
            ],
            [
             0.7777777777777778,
             "#fb9f3a"
            ],
            [
             0.8888888888888888,
             "#fdca26"
            ],
            [
             1,
             "#f0f921"
            ]
           ],
           "sequentialminus": [
            [
             0,
             "#0d0887"
            ],
            [
             0.1111111111111111,
             "#46039f"
            ],
            [
             0.2222222222222222,
             "#7201a8"
            ],
            [
             0.3333333333333333,
             "#9c179e"
            ],
            [
             0.4444444444444444,
             "#bd3786"
            ],
            [
             0.5555555555555556,
             "#d8576b"
            ],
            [
             0.6666666666666666,
             "#ed7953"
            ],
            [
             0.7777777777777778,
             "#fb9f3a"
            ],
            [
             0.8888888888888888,
             "#fdca26"
            ],
            [
             1,
             "#f0f921"
            ]
           ]
          },
          "colorway": [
           "#636efa",
           "#EF553B",
           "#00cc96",
           "#ab63fa",
           "#FFA15A",
           "#19d3f3",
           "#FF6692",
           "#B6E880",
           "#FF97FF",
           "#FECB52"
          ],
          "font": {
           "color": "#2a3f5f"
          },
          "geo": {
           "bgcolor": "white",
           "lakecolor": "white",
           "landcolor": "#E5ECF6",
           "showlakes": true,
           "showland": true,
           "subunitcolor": "white"
          },
          "hoverlabel": {
           "align": "left"
          },
          "hovermode": "closest",
          "mapbox": {
           "style": "light"
          },
          "paper_bgcolor": "white",
          "plot_bgcolor": "#E5ECF6",
          "polar": {
           "angularaxis": {
            "gridcolor": "white",
            "linecolor": "white",
            "ticks": ""
           },
           "bgcolor": "#E5ECF6",
           "radialaxis": {
            "gridcolor": "white",
            "linecolor": "white",
            "ticks": ""
           }
          },
          "scene": {
           "xaxis": {
            "backgroundcolor": "#E5ECF6",
            "gridcolor": "white",
            "gridwidth": 2,
            "linecolor": "white",
            "showbackground": true,
            "ticks": "",
            "zerolinecolor": "white"
           },
           "yaxis": {
            "backgroundcolor": "#E5ECF6",
            "gridcolor": "white",
            "gridwidth": 2,
            "linecolor": "white",
            "showbackground": true,
            "ticks": "",
            "zerolinecolor": "white"
           },
           "zaxis": {
            "backgroundcolor": "#E5ECF6",
            "gridcolor": "white",
            "gridwidth": 2,
            "linecolor": "white",
            "showbackground": true,
            "ticks": "",
            "zerolinecolor": "white"
           }
          },
          "shapedefaults": {
           "line": {
            "color": "#2a3f5f"
           }
          },
          "ternary": {
           "aaxis": {
            "gridcolor": "white",
            "linecolor": "white",
            "ticks": ""
           },
           "baxis": {
            "gridcolor": "white",
            "linecolor": "white",
            "ticks": ""
           },
           "bgcolor": "#E5ECF6",
           "caxis": {
            "gridcolor": "white",
            "linecolor": "white",
            "ticks": ""
           }
          },
          "title": {
           "x": 0.05
          },
          "xaxis": {
           "automargin": true,
           "gridcolor": "white",
           "linecolor": "white",
           "ticks": "",
           "title": {
            "standoff": 15
           },
           "zerolinecolor": "white",
           "zerolinewidth": 2
          },
          "yaxis": {
           "automargin": true,
           "gridcolor": "white",
           "linecolor": "white",
           "ticks": "",
           "title": {
            "standoff": 15
           },
           "zerolinecolor": "white",
           "zerolinewidth": 2
          }
         }
        }
       }
      }
     },
     "metadata": {},
     "output_type": "display_data"
    }
   ],
   "source": [
    "# graph 2020's total emission\n",
    "\n",
    "_2020 = df[(df['Year'] == 2020) & (df['Aggregated Fuel Group'] == 'GAS')]\n",
    "\n",
    "_2020_by_state = _2020.groupby('State', as_index=False).aggregate({'Emission (Predicted)': 'sum'})\n",
    "\n",
    "fig = px.choropleth(_2020_by_state,\n",
    "                    locations='State', \n",
    "                    locationmode=\"USA-states\", \n",
    "                    scope=\"usa\",\n",
    "                    color=(_2020_by_state['Emission (Predicted)']),\n",
    "                    color_continuous_scale=\"Viridis_r\", \n",
    "                    \n",
    "                    )\n",
    "fig.show()"
   ]
  },
  {
   "cell_type": "code",
   "execution_count": 116,
   "id": "749ff27e",
   "metadata": {},
   "outputs": [],
   "source": [
    "\n",
    "df = pd.read_csv('monthly_generation_emission.csv')\n",
    "\n",
    "df_by_month = df.groupby(['Year', 'Month'], as_index=False).aggregate(\n",
    "    {'Emission (Predicted)': 'sum'})\n",
    "\n",
    "mapper = {'Jan': 1,\n",
    "          'Feb': 2,\n",
    "          'Mar': 3, \n",
    "          'Apr': 4, \n",
    "          'May': 5, \n",
    "          'Jun': 6, \n",
    "          'Jul': 7, \n",
    "          'Aug': 8, \n",
    "          'Sep': 9,\n",
    "          'Oct': 10,\n",
    "          'Nov': 11,\n",
    "          'Dec': 12}\n",
    "\n",
    "df_by_month['Month'] = df_by_month['Month'].replace(mapper)\n",
    "\n",
    "df_by_month['Date'] = df_by_month['Year'].astype(str) + '-' + df_by_month['Month'].astype(str) + '-1'\n",
    "\n",
    "df_by_month['Date'] = pd.to_datetime(df_by_month['Date'])"
   ]
  },
  {
   "cell_type": "code",
   "execution_count": 123,
   "id": "40cddae9",
   "metadata": {},
   "outputs": [
    {
     "data": {
      "text/html": [
       "<div>\n",
       "<style scoped>\n",
       "    .dataframe tbody tr th:only-of-type {\n",
       "        vertical-align: middle;\n",
       "    }\n",
       "\n",
       "    .dataframe tbody tr th {\n",
       "        vertical-align: top;\n",
       "    }\n",
       "\n",
       "    .dataframe thead th {\n",
       "        text-align: right;\n",
       "    }\n",
       "</style>\n",
       "<table border=\"1\" class=\"dataframe\">\n",
       "  <thead>\n",
       "    <tr style=\"text-align: right;\">\n",
       "      <th></th>\n",
       "      <th>Year</th>\n",
       "      <th>Month</th>\n",
       "      <th>Emission (Predicted)</th>\n",
       "      <th>Date</th>\n",
       "    </tr>\n",
       "  </thead>\n",
       "  <tbody>\n",
       "    <tr>\n",
       "      <th>0</th>\n",
       "      <td>2013</td>\n",
       "      <td>4</td>\n",
       "      <td>3.278636e+08</td>\n",
       "      <td>2013-04-01</td>\n",
       "    </tr>\n",
       "    <tr>\n",
       "      <th>1</th>\n",
       "      <td>2013</td>\n",
       "      <td>8</td>\n",
       "      <td>3.862687e+08</td>\n",
       "      <td>2013-08-01</td>\n",
       "    </tr>\n",
       "    <tr>\n",
       "      <th>2</th>\n",
       "      <td>2013</td>\n",
       "      <td>12</td>\n",
       "      <td>3.664463e+08</td>\n",
       "      <td>2013-12-01</td>\n",
       "    </tr>\n",
       "    <tr>\n",
       "      <th>3</th>\n",
       "      <td>2013</td>\n",
       "      <td>2</td>\n",
       "      <td>3.419873e+08</td>\n",
       "      <td>2013-02-01</td>\n",
       "    </tr>\n",
       "    <tr>\n",
       "      <th>4</th>\n",
       "      <td>2013</td>\n",
       "      <td>1</td>\n",
       "      <td>3.609070e+08</td>\n",
       "      <td>2013-01-01</td>\n",
       "    </tr>\n",
       "    <tr>\n",
       "      <th>...</th>\n",
       "      <td>...</td>\n",
       "      <td>...</td>\n",
       "      <td>...</td>\n",
       "      <td>...</td>\n",
       "    </tr>\n",
       "    <tr>\n",
       "      <th>91</th>\n",
       "      <td>2020</td>\n",
       "      <td>3</td>\n",
       "      <td>2.497060e+08</td>\n",
       "      <td>2020-03-01</td>\n",
       "    </tr>\n",
       "    <tr>\n",
       "      <th>92</th>\n",
       "      <td>2020</td>\n",
       "      <td>5</td>\n",
       "      <td>2.408499e+08</td>\n",
       "      <td>2020-05-01</td>\n",
       "    </tr>\n",
       "    <tr>\n",
       "      <th>93</th>\n",
       "      <td>2020</td>\n",
       "      <td>11</td>\n",
       "      <td>2.534189e+08</td>\n",
       "      <td>2020-11-01</td>\n",
       "    </tr>\n",
       "    <tr>\n",
       "      <th>94</th>\n",
       "      <td>2020</td>\n",
       "      <td>10</td>\n",
       "      <td>2.606330e+08</td>\n",
       "      <td>2020-10-01</td>\n",
       "    </tr>\n",
       "    <tr>\n",
       "      <th>95</th>\n",
       "      <td>2020</td>\n",
       "      <td>9</td>\n",
       "      <td>2.740709e+08</td>\n",
       "      <td>2020-09-01</td>\n",
       "    </tr>\n",
       "  </tbody>\n",
       "</table>\n",
       "<p>96 rows × 4 columns</p>\n",
       "</div>"
      ],
      "text/plain": [
       "    Year  Month  Emission (Predicted)       Date\n",
       "0   2013      4          3.278636e+08 2013-04-01\n",
       "1   2013      8          3.862687e+08 2013-08-01\n",
       "2   2013     12          3.664463e+08 2013-12-01\n",
       "3   2013      2          3.419873e+08 2013-02-01\n",
       "4   2013      1          3.609070e+08 2013-01-01\n",
       "..   ...    ...                   ...        ...\n",
       "91  2020      3          2.497060e+08 2020-03-01\n",
       "92  2020      5          2.408499e+08 2020-05-01\n",
       "93  2020     11          2.534189e+08 2020-11-01\n",
       "94  2020     10          2.606330e+08 2020-10-01\n",
       "95  2020      9          2.740709e+08 2020-09-01\n",
       "\n",
       "[96 rows x 4 columns]"
      ]
     },
     "execution_count": 123,
     "metadata": {},
     "output_type": "execute_result"
    }
   ],
   "source": [
    "df_by_month"
   ]
  },
  {
   "cell_type": "code",
   "execution_count": 124,
   "id": "97c920d6",
   "metadata": {},
   "outputs": [
    {
     "data": {
      "text/plain": [
       "<AxesSubplot:xlabel='Date', ylabel='Emission (Predicted)'>"
      ]
     },
     "execution_count": 124,
     "metadata": {},
     "output_type": "execute_result"
    },
    {
     "data": {
      "image/png": "[encoded data removed]",
      "text/plain": [
       "<Figure size 432x288 with 1 Axes>"
      ]
     },
     "metadata": {
      "needs_background": "light"
     },
     "output_type": "display_data"
    }
   ],
   "source": [
    "# plot\n",
    "\n",
    "sns.lineplot(data=df_by_month, x='Date', y = 'Emission (Predicted)')\n"
   ]
  },
  {
   "cell_type": "code",
   "execution_count": 125,
   "id": "a7358b9b",
   "metadata": {},
   "outputs": [
    {
     "data": {
      "text/html": [
       "<div>\n",
       "<style scoped>\n",
       "    .dataframe tbody tr th:only-of-type {\n",
       "        vertical-align: middle;\n",
       "    }\n",
       "\n",
       "    .dataframe tbody tr th {\n",
       "        vertical-align: top;\n",
       "    }\n",
       "\n",
       "    .dataframe thead th {\n",
       "        text-align: right;\n",
       "    }\n",
       "</style>\n",
       "<table border=\"1\" class=\"dataframe\">\n",
       "  <thead>\n",
       "    <tr style=\"text-align: right;\">\n",
       "      <th></th>\n",
       "      <th>Year</th>\n",
       "      <th>Month</th>\n",
       "      <th>Emission (Predicted)</th>\n",
       "      <th>Date</th>\n",
       "    </tr>\n",
       "  </thead>\n",
       "  <tbody>\n",
       "    <tr>\n",
       "      <th>0</th>\n",
       "      <td>2013</td>\n",
       "      <td>4</td>\n",
       "      <td>3.278636e+08</td>\n",
       "      <td>2013-04-01</td>\n",
       "    </tr>\n",
       "    <tr>\n",
       "      <th>1</th>\n",
       "      <td>2013</td>\n",
       "      <td>8</td>\n",
       "      <td>3.862687e+08</td>\n",
       "      <td>2013-08-01</td>\n",
       "    </tr>\n",
       "    <tr>\n",
       "      <th>2</th>\n",
       "      <td>2013</td>\n",
       "      <td>12</td>\n",
       "      <td>3.664463e+08</td>\n",
       "      <td>2013-12-01</td>\n",
       "    </tr>\n",
       "    <tr>\n",
       "      <th>3</th>\n",
       "      <td>2013</td>\n",
       "      <td>2</td>\n",
       "      <td>3.419873e+08</td>\n",
       "      <td>2013-02-01</td>\n",
       "    </tr>\n",
       "    <tr>\n",
       "      <th>4</th>\n",
       "      <td>2013</td>\n",
       "      <td>1</td>\n",
       "      <td>3.609070e+08</td>\n",
       "      <td>2013-01-01</td>\n",
       "    </tr>\n",
       "    <tr>\n",
       "      <th>...</th>\n",
       "      <td>...</td>\n",
       "      <td>...</td>\n",
       "      <td>...</td>\n",
       "      <td>...</td>\n",
       "    </tr>\n",
       "    <tr>\n",
       "      <th>91</th>\n",
       "      <td>2020</td>\n",
       "      <td>3</td>\n",
       "      <td>2.497060e+08</td>\n",
       "      <td>2020-03-01</td>\n",
       "    </tr>\n",
       "    <tr>\n",
       "      <th>92</th>\n",
       "      <td>2020</td>\n",
       "      <td>5</td>\n",
       "      <td>2.408499e+08</td>\n",
       "      <td>2020-05-01</td>\n",
       "    </tr>\n",
       "    <tr>\n",
       "      <th>93</th>\n",
       "      <td>2020</td>\n",
       "      <td>11</td>\n",
       "      <td>2.534189e+08</td>\n",
       "      <td>2020-11-01</td>\n",
       "    </tr>\n",
       "    <tr>\n",
       "      <th>94</th>\n",
       "      <td>2020</td>\n",
       "      <td>10</td>\n",
       "      <td>2.606330e+08</td>\n",
       "      <td>2020-10-01</td>\n",
       "    </tr>\n",
       "    <tr>\n",
       "      <th>95</th>\n",
       "      <td>2020</td>\n",
       "      <td>9</td>\n",
       "      <td>2.740709e+08</td>\n",
       "      <td>2020-09-01</td>\n",
       "    </tr>\n",
       "  </tbody>\n",
       "</table>\n",
       "<p>96 rows × 4 columns</p>\n",
       "</div>"
      ],
      "text/plain": [
       "    Year  Month  Emission (Predicted)       Date\n",
       "0   2013      4          3.278636e+08 2013-04-01\n",
       "1   2013      8          3.862687e+08 2013-08-01\n",
       "2   2013     12          3.664463e+08 2013-12-01\n",
       "3   2013      2          3.419873e+08 2013-02-01\n",
       "4   2013      1          3.609070e+08 2013-01-01\n",
       "..   ...    ...                   ...        ...\n",
       "91  2020      3          2.497060e+08 2020-03-01\n",
       "92  2020      5          2.408499e+08 2020-05-01\n",
       "93  2020     11          2.534189e+08 2020-11-01\n",
       "94  2020     10          2.606330e+08 2020-10-01\n",
       "95  2020      9          2.740709e+08 2020-09-01\n",
       "\n",
       "[96 rows x 4 columns]"
      ]
     },
     "execution_count": 125,
     "metadata": {},
     "output_type": "execute_result"
    }
   ],
   "source": [
    "df_by_month"
   ]
  },
  {
   "cell_type": "markdown",
   "id": "a1337a20",
   "metadata": {},
   "source": [
    "## Worked Citied\n",
    "\n",
    "1. Cai, M., Shi, Y., Ren, C., Yoshida, T., Yamagata, Y., Ding, C., & Zhou, N. (2021). The need for urban form data in spatial modeling of urban carbon emissions in China: A critical review. Journal of Cleaner Production, 319, 128792. https://doi.org/https://doi.org/10.1016/j.jclepro.2021.128792\n",
    "2. EPA. (2022). Overview of Greenhouse Gases.  Retrieved from https://www.epa.gov/ghgemissions/overview-greenhouse-gases\n",
    "3. Inventory of U.S. Greenhouse Gas Emissions and Sinks: 1990-2014. (2016).  Retrieved from https://www.epa.gov/sites/default/files/2017-04/documents/us-ghg-inventory-2016-main-text.pdf\n",
    "4. Maksyutov, S., Brunner, D., Turner, A. J., Zavala-Araiza, D., Janardanan, R., Bun, R., Oda, T., & Patra, P. K. (2022). Chapter 14 - Applications of top-down methods to anthropogenic GHG emission estimation. In B. Poulter, J. G. Canadell, D. J. Hayes, & R. L. Thompson (Eds.), Balancing Greenhouse Gas Budgets (pp. 455-481). Elsevier. https://doi.org/https://doi.org/10.1016/B978-0-12-814952-2.00006-X\n"
   ]
  }
 ],
 "metadata": {
  "kernelspec": {
   "display_name": "Python 3.8.11 ('base')",
   "language": "python",
   "name": "python3"
  },
  "language_info": {
   "codemirror_mode": {
    "name": "ipython",
    "version": 3
   },
   "file_extension": ".py",
   "mimetype": "text/x-python",
   "name": "python",
   "nbconvert_exporter": "python",
   "pygments_lexer": "ipython3",
   "version": "3.8.11"
  },
  "vscode": {
   "interpreter": {
    "hash": "07c3468d1e45f34d6493826f0aeab04952f6c6a4337b76a0857f3a6bad1a4c15"
   }
  }
 },
 "nbformat": 4,
 "nbformat_minor": 5
}
